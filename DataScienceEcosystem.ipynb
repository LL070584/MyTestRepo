{
 "cells": [
  {
   "cell_type": "markdown",
   "id": "15eb1470-3930-4fb3-88e7-5a29ca874b26",
   "metadata": {},
   "source": [
    "# Data Science Tools and Ecosystem"
   ]
  },
  {
   "cell_type": "markdown",
   "id": "8ba4850f-788d-418e-8527-8d05fc342aa2",
   "metadata": {},
   "source": [
    "In this notebook, Data Science Tools and Ecosystem are summarized."
   ]
  },
  {
   "cell_type": "markdown",
   "id": "77930d39-e7a0-447a-92f2-c0bebe85c2c9",
   "metadata": {},
   "source": [
    "**Objectives:**\n",
    "\n",
    "- Understand how to evaluate arithmetic expressions in Python\n",
    "- Learn how to convert units, such as minutes to hours\n",
    "- List popular languages and tools used in Data Science\n",
    "- Create and use code and Markdown cells effectively in Jupyter Notebook\n",
    "- Explore basic operations and formatting options in Markdown"
   ]
  },
  {
   "cell_type": "markdown",
   "id": "7f7afcc3-df5a-4a04-a6b5-7f0a6c1ebcf4",
   "metadata": {},
   "source": [
    "### Some of the popular languages that Data Scientists use are:\n",
    "1. Python\n",
    "2. R\n",
    "3. SQL\n",
    "4. Julia\n",
    "5. Scala"
   ]
  },
  {
   "cell_type": "markdown",
   "id": "0ca46924-6da3-4aeb-bdeb-4dde797e768d",
   "metadata": {},
   "source": [
    "### Some of the commonly used libraries used by Data Scientists include:\n",
    "1. NumPy\n",
    "2. Pandas\n",
    "3. Matplotlib"
   ]
  },
  {
   "cell_type": "markdown",
   "id": "41cc534e-c1b0-49b4-9ce0-14c46fd27359",
   "metadata": {},
   "source": [
    "| Data Science Tools       |\n",
    "|--------------------------|\n",
    "| Jupyter Notebook         |\n",
    "| RStudio                  |\n",
    "| Apache Zeppelin          |"
   ]
  },
  {
   "cell_type": "markdown",
   "id": "e001267c-d436-4283-a40e-82da68bf7d2a",
   "metadata": {},
   "source": [
    "### Below are a few examples of evaluating arithmetic expressions in Python\n",
    "\n",
    "In Python, you can perform various arithmetic operations such as addition, subtraction, multiplication, and division. Here are a few examples:\n",
    "- 3 + 5\n",
    "- 10 - 4\n",
    "- 7 * 6\n",
    "- 8 / 2\n"
   ]
  },
  {
   "cell_type": "code",
   "execution_count": 13,
   "id": "51b6732f-6578-4501-b703-44a98f9650fc",
   "metadata": {},
   "outputs": [
    {
     "data": {
      "text/plain": [
       "17"
      ]
     },
     "execution_count": 13,
     "metadata": {},
     "output_type": "execute_result"
    }
   ],
   "source": [
    "# This is a simple arithmetic expression to multiply then add integers\n",
    "(3 * 4) + 5"
   ]
  },
  {
   "cell_type": "code",
   "execution_count": 16,
   "id": "22ba46fe-d3ac-4359-8c54-2b414b7b78a1",
   "metadata": {},
   "outputs": [
    {
     "data": {
      "text/plain": [
       "3.3333333333333335"
      ]
     },
     "execution_count": 16,
     "metadata": {},
     "output_type": "execute_result"
    }
   ],
   "source": [
    "# This will convert 200 minutes to hours by dividing by 60\n",
    "minutes = 200\n",
    "hours = minutes / 60\n",
    "hours"
   ]
  },
  {
   "cell_type": "markdown",
   "id": "1f819db7-568e-44e1-8e9e-238d59e8bcc2",
   "metadata": {},
   "source": [
    "## Author\n",
    "Liudmyla Levkivska"
   ]
  },
  {
   "cell_type": "code",
   "execution_count": null,
   "id": "2df1729f-addb-4840-93ef-116b80055016",
   "metadata": {},
   "outputs": [],
   "source": []
  }
 ],
 "metadata": {
  "kernelspec": {
   "display_name": "Python 3 (ipykernel)",
   "language": "python",
   "name": "python3"
  },
  "language_info": {
   "codemirror_mode": {
    "name": "ipython",
    "version": 3
   },
   "file_extension": ".py",
   "mimetype": "text/x-python",
   "name": "python",
   "nbconvert_exporter": "python",
   "pygments_lexer": "ipython3",
   "version": "3.12.4"
  }
 },
 "nbformat": 4,
 "nbformat_minor": 5
}
